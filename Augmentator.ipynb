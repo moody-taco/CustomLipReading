{
 "cells": [
  {
   "cell_type": "code",
   "execution_count": 27,
   "metadata": {},
   "outputs": [],
   "source": [
    "import os\n",
    "import json\n",
    "from PIL import Image, ImageEnhance\n",
    "import imageio\n",
    "import cv2"
   ]
  },
  {
   "cell_type": "code",
   "execution_count": 28,
   "metadata": {},
   "outputs": [],
   "source": [
    "def alter_brightness(image, factor):\n",
    "    enhancer = ImageEnhance.Brightness(image)\n",
    "    return enhancer.enhance(factor)\n",
    "\n",
    "def rotate_image(image, angle):\n",
    "    return image.rotate(angle)"
   ]
  },
  {
   "cell_type": "code",
   "execution_count": 36,
   "metadata": {},
   "outputs": [],
   "source": [
    "def augmentDataset(existing_data_path, word, freq):\n",
    "    # Load existing data\n",
    "    existing_data = []\n",
    "    next_dir_number = freq+65  # Start numbering from the last file number\n",
    "\n",
    "    for i in range(1, freq+1):  # Load the existing files\n",
    "        current_data_path = os.path.join(existing_data_path, word+'_'+f\"{i}\", \"data.txt\")\n",
    "        with open(current_data_path, \"r\") as f:\n",
    "            existing_data.append(json.loads(f.read()))\n",
    "\n",
    "    # Augment the existing data\n",
    "    for i, word_frames in enumerate(existing_data):\n",
    "        # Modify the word_frames as needed for augmentation\n",
    "        augmented_word_frames = []\n",
    "\n",
    "        for img_data in word_frames:\n",
    "            # Convert the image data to a PIL Image\n",
    "            img = Image.new('RGB', (len(img_data[0]), len(img_data)))\n",
    "            pixels = img.load()\n",
    "\n",
    "            for y in range(len(img_data)):\n",
    "                for x in range(len(img_data[y])):\n",
    "                    pixels[x, y] = tuple(img_data[y][x])\n",
    "\n",
    "            # Apply brightness reduction\n",
    "            img = alter_brightness(img, 1.5)\n",
    "\n",
    "            # Rotate the image\n",
    "            # img = rotate_image(img, angle=15)\n",
    "\n",
    "            # Convert the modified image back to image data\n",
    "            modified_img_data = [\n",
    "                [list(img.getpixel((x, y))) for x in range(img.width)]\n",
    "                for y in range(img.height)\n",
    "            ]\n",
    "\n",
    "            augmented_word_frames.append(modified_img_data)\n",
    "\n",
    "        # Create new directory with the incremented number\n",
    "        new_label = word+f\"_{next_dir_number}\"\n",
    "        new_word_folder = os.path.join(existing_data_path, new_label)\n",
    "        os.makedirs(new_word_folder)\n",
    "\n",
    "        # Save data.txt\n",
    "        new_txt_path = os.path.join(new_word_folder, \"data.txt\")\n",
    "        with open(new_txt_path, \"w\") as f:\n",
    "            f.write(json.dumps(augmented_word_frames))\n",
    "\n",
    "        images = []\n",
    "\n",
    "        # Save images and update the video\n",
    "        for j, img_data in enumerate(augmented_word_frames):\n",
    "            img = Image.new('RGB', (len(img_data[0]), len(img_data)))\n",
    "            pixels = img.load()\n",
    "\n",
    "            for y in range(len(img_data)):\n",
    "                for x in range(len(img_data[y])):\n",
    "                    pixels[x, y] = tuple(img_data[y][x])\n",
    "\n",
    "            img_path = os.path.join(new_word_folder, f\"{j}.png\")\n",
    "            img.save(img_path)\n",
    "\n",
    "            images.append(imageio.imread(img_path))\n",
    "\n",
    "        # Save the updated video\n",
    "        new_video_path = os.path.join(new_word_folder, \"video.mp4\")\n",
    "        imageio.mimsave(new_video_path, images, fps=29.0)\n",
    "\n",
    "        next_dir_number += 1\n",
    "\n",
    "    print(\"Augmentation completed for \", word, \"!\")"
   ]
  },
  {
   "cell_type": "code",
   "execution_count": 38,
   "metadata": {},
   "outputs": [
    {
     "name": "stdout",
     "output_type": "stream",
     "text": [
      "['अच्छा', 'एक', 'और', 'कहाँ', 'चार', 'जी', 'ठीक', 'तीन', 'दस', 'देखो', 'नमस्ते', 'पाँच', 'पानी', 'रोटी', 'है']\n"
     ]
    }
   ],
   "source": [
    "# Getting all the labels available in the directory\n",
    "files = os.listdir('D:/Codes/Python/CustomLipReading/data')\n",
    "labels = []\n",
    "for i in range(0, len(files)):\n",
    "    word = files[i].split('_')[0]\n",
    "    if (word in labels) == False:\n",
    "        labels.append(word)\n",
    "print(labels)"
   ]
  },
  {
   "cell_type": "code",
   "execution_count": 39,
   "metadata": {},
   "outputs": [
    {
     "data": {
      "text/plain": [
       "15"
      ]
     },
     "execution_count": 39,
     "metadata": {},
     "output_type": "execute_result"
    }
   ],
   "source": [
    "len(labels)"
   ]
  },
  {
   "cell_type": "code",
   "execution_count": 40,
   "metadata": {},
   "outputs": [
    {
     "name": "stdout",
     "output_type": "stream",
     "text": [
      "[156, 168, 120, 150, 128, 120, 168, 150, 120, 128, 120, 150, 132, 150, 120]\n"
     ]
    }
   ],
   "source": [
    "# Number of videos for each word\n",
    "freq = []\n",
    "for i in range(0, len(labels)):\n",
    "    count = 0\n",
    "    for j in range(0, len(files)):\n",
    "        if files[j].startswith(labels[i]):\n",
    "            count+=1\n",
    "        \n",
    "    freq.append(count)\n",
    "print(freq)"
   ]
  },
  {
   "cell_type": "code",
   "execution_count": 37,
   "metadata": {},
   "outputs": [
    {
     "name": "stderr",
     "output_type": "stream",
     "text": [
      "C:\\Users\\megar\\AppData\\Local\\Temp\\ipykernel_7008\\2349165749.py:63: DeprecationWarning: Starting with ImageIO v3 the behavior of this function will switch to that of iio.v3.imread. To keep the current behavior (and make this warning disappear) use `import imageio.v2 as imageio` or call `imageio.v2.imread` directly.\n",
      "  images.append(imageio.imread(img_path))\n"
     ]
    },
    {
     "name": "stdout",
     "output_type": "stream",
     "text": [
      "Augmentation completed for  देखो !\n"
     ]
    }
   ],
   "source": [
    "existing_data_path = \"data\" \n",
    "augmentDataset(existing_data_path, \"देखो\", 32)"
   ]
  },
  {
   "cell_type": "code",
   "execution_count": 8,
   "metadata": {},
   "outputs": [
    {
     "name": "stderr",
     "output_type": "stream",
     "text": [
      "C:\\Users\\megar\\AppData\\Local\\Temp\\ipykernel_19432\\765770814.py:63: DeprecationWarning: Starting with ImageIO v3 the behavior of this function will switch to that of iio.v3.imread. To keep the current behavior (and make this warning disappear) use `import imageio.v2 as imageio` or call `imageio.v2.imread` directly.\n",
      "  images.append(imageio.imread(img_path))\n",
      "C:\\Users\\megar\\AppData\\Local\\Temp\\ipykernel_19432\\765770814.py:63: DeprecationWarning: Starting with ImageIO v3 the behavior of this function will switch to that of iio.v3.imread. To keep the current behavior (and make this warning disappear) use `import imageio.v2 as imageio` or call `imageio.v2.imread` directly.\n",
      "  images.append(imageio.imread(img_path))\n"
     ]
    },
    {
     "name": "stdout",
     "output_type": "stream",
     "text": [
      "Augmentation completed for  अच्छा !\n",
      "Augmentation completed for  एक !\n",
      "Augmentation completed for  कहाँ !\n",
      "Augmentation completed for  जी !\n",
      "Augmentation completed for  ठीक !\n",
      "Augmentation completed for  नमस्ते !\n",
      "Augmentation completed for  पानी !\n",
      "Augmentation completed for  रोटी !\n",
      "Augmentation completed for  है !\n"
     ]
    }
   ],
   "source": [
    "existing_data_path = \"data\"  # Change this to the path where your existing data is stored\n",
    "for i in range(0, len(labels)):\n",
    "    augmentDataset(existing_data_path, labels[i], freq[i])"
   ]
  },
  {
   "cell_type": "code",
   "execution_count": null,
   "metadata": {},
   "outputs": [],
   "source": []
  }
 ],
 "metadata": {
  "kernelspec": {
   "display_name": "Python 3",
   "language": "python",
   "name": "python3"
  },
  "language_info": {
   "codemirror_mode": {
    "name": "ipython",
    "version": 3
   },
   "file_extension": ".py",
   "mimetype": "text/x-python",
   "name": "python",
   "nbconvert_exporter": "python",
   "pygments_lexer": "ipython3",
   "version": "3.8.10"
  }
 },
 "nbformat": 4,
 "nbformat_minor": 2
}
